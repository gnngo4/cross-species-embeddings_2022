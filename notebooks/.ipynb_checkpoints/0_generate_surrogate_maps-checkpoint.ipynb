{
 "cells": [
  {
   "cell_type": "markdown",
   "id": "f04abd7e",
   "metadata": {},
   "source": [
    "# [brainsmash] Compute cortical distance matrix for left/right hemisphere marmoset/human 10k surfaces"
   ]
  },
  {
   "cell_type": "code",
   "execution_count": 1,
   "id": "65e9c79d",
   "metadata": {},
   "outputs": [],
   "source": [
    "from brainsmash.workbench.geo import cortex\n",
    "\n",
    "surf_10k = {}\n",
    "surf_10k['marmoset_lh'] = \"/mnt/WD10TB/datasets/data_view_crossspecies/marmoset/surfaces/surfFS.lh.graymid.10k.surf.gii\"\n",
    "surf_10k['marmoset_rh'] = \"/mnt/WD10TB/datasets/data_view_crossspecies/marmoset/surfaces/surfFS.rh.graymid.10k.surf.gii\"\n",
    "surf_10k['human_lh'] = \"/mnt/WD10TB/datasets/data_view_crossspecies/human/surfaces/S1200.L.midthickness_MSMAll.10k_fs_LR.surf.gii\"\n",
    "surf_10k['human_rh'] = \"/mnt/WD10TB/datasets/data_view_crossspecies/human/surfaces/S1200.R.midthickness_MSMAll.10k_fs_LR.surf.gii\"\n",
    "\n",
    "distmat = {}\n",
    "distmat['marmoset_lh'] = \"../data/brainsmash/marmoset_lh_dense_geodesic_distmap.txt\"\n",
    "distmat['marmoset_rh'] = \"../data/brainsmash/marmoset_rh_dense_geodesic_distmap.txt\"\n",
    "distmat['human_lh'] = \"../data/brainsmash/human_lh_dense_geodesic_distmap.txt\"\n",
    "distmat['human_rh'] = \"../data/brainsmash/human_rh_dense_geodesic_distmap.txt\""
   ]
  },
  {
   "cell_type": "code",
   "execution_count": 2,
   "id": "3875fd1e",
   "metadata": {},
   "outputs": [
    {
     "name": "stdout",
     "output_type": "stream",
     "text": [
      "Running vertex 0 of 10242\n",
      "Running vertex 1000 of 10242\n",
      "Running vertex 2000 of 10242\n",
      "Running vertex 3000 of 10242\n",
      "Running vertex 4000 of 10242\n",
      "Running vertex 5000 of 10242\n",
      "Running vertex 6000 of 10242\n",
      "Running vertex 7000 of 10242\n",
      "Running vertex 8000 of 10242\n",
      "Running vertex 9000 of 10242\n",
      "Running vertex 10000 of 10242\n"
     ]
    },
    {
     "data": {
      "text/plain": [
       "'../data/brainsmash/marmoset_lh_dense_geodesic_distmap.txt'"
      ]
     },
     "execution_count": 2,
     "metadata": {},
     "output_type": "execute_result"
    }
   ],
   "source": [
    "spec = 'marmoset_lh'\n",
    "cortex(surface=surf_10k[spec], outfile=distmat[spec], euclid=False)"
   ]
  },
  {
   "cell_type": "code",
   "execution_count": 3,
   "id": "a7d1a087",
   "metadata": {},
   "outputs": [
    {
     "name": "stdout",
     "output_type": "stream",
     "text": [
      "Running vertex 0 of 10242\n",
      "Running vertex 1000 of 10242\n",
      "Running vertex 2000 of 10242\n",
      "Running vertex 3000 of 10242\n",
      "Running vertex 4000 of 10242\n",
      "Running vertex 5000 of 10242\n",
      "Running vertex 6000 of 10242\n",
      "Running vertex 7000 of 10242\n",
      "Running vertex 8000 of 10242\n",
      "Running vertex 9000 of 10242\n",
      "Running vertex 10000 of 10242\n"
     ]
    },
    {
     "data": {
      "text/plain": [
       "'../data/brainsmash/marmoset_rh_dense_geodesic_distmap.txt'"
      ]
     },
     "execution_count": 3,
     "metadata": {},
     "output_type": "execute_result"
    }
   ],
   "source": [
    "spec = 'marmoset_rh'\n",
    "cortex(surface=surf_10k[spec], outfile=distmat[spec], euclid=False)"
   ]
  },
  {
   "cell_type": "code",
   "execution_count": 14,
   "id": "d550db8c",
   "metadata": {},
   "outputs": [
    {
     "name": "stdout",
     "output_type": "stream",
     "text": [
      "Running vertex 0 of 10242\n",
      "Running vertex 1000 of 10242\n",
      "Running vertex 2000 of 10242\n",
      "Running vertex 3000 of 10242\n",
      "Running vertex 4000 of 10242\n",
      "Running vertex 5000 of 10242\n",
      "Running vertex 6000 of 10242\n",
      "Running vertex 7000 of 10242\n",
      "Running vertex 8000 of 10242\n",
      "Running vertex 9000 of 10242\n",
      "Running vertex 10000 of 10242\n"
     ]
    },
    {
     "data": {
      "text/plain": [
       "'../data/brainsmash/human_lh_dense_geodesic_distmap.txt'"
      ]
     },
     "execution_count": 14,
     "metadata": {},
     "output_type": "execute_result"
    }
   ],
   "source": [
    "spec = 'human_lh'\n",
    "cortex(surface=surf_10k[spec], outfile=distmat[spec], euclid=False)"
   ]
  },
  {
   "cell_type": "code",
   "execution_count": 15,
   "id": "e0eeab85",
   "metadata": {},
   "outputs": [
    {
     "name": "stdout",
     "output_type": "stream",
     "text": [
      "Running vertex 0 of 10242\n",
      "Running vertex 1000 of 10242\n",
      "Running vertex 2000 of 10242\n",
      "Running vertex 3000 of 10242\n",
      "Running vertex 4000 of 10242\n",
      "Running vertex 5000 of 10242\n",
      "Running vertex 6000 of 10242\n",
      "Running vertex 7000 of 10242\n",
      "Running vertex 8000 of 10242\n",
      "Running vertex 9000 of 10242\n",
      "Running vertex 10000 of 10242\n"
     ]
    },
    {
     "data": {
      "text/plain": [
       "'../data/brainsmash/human_rh_dense_geodesic_distmap.txt'"
      ]
     },
     "execution_count": 15,
     "metadata": {},
     "output_type": "execute_result"
    }
   ],
   "source": [
    "spec = 'human_rh'\n",
    "cortex(surface=surf_10k[spec], outfile=distmat[spec], euclid=False)"
   ]
  }
 ],
 "metadata": {
  "kernelspec": {
   "display_name": "Python 3",
   "language": "python",
   "name": "python3"
  },
  "language_info": {
   "codemirror_mode": {
    "name": "ipython",
    "version": 3
   },
   "file_extension": ".py",
   "mimetype": "text/x-python",
   "name": "python",
   "nbconvert_exporter": "python",
   "pygments_lexer": "ipython3",
   "version": "3.8.8"
  }
 },
 "nbformat": 4,
 "nbformat_minor": 5
}
